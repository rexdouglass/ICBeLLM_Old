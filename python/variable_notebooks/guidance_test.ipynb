{
 "cells": [
  {
   "cell_type": "code",
   "execution_count": 1,
   "metadata": {},
   "outputs": [],
   "source": [
    "#!pip install guidance"
   ]
  },
  {
   "cell_type": "code",
   "execution_count": 2,
   "metadata": {},
   "outputs": [],
   "source": [
    "import guidance\n",
    "\n",
    "#from transformers import AutoModelForCausalLM\n",
    "#model_name = \"TheBloke/Wizard-Vicuna-13B-Uncensored-HF\"\n",
    "#model_8bit = AutoModelForCausalLM.from_pretrained(model_name, device_map=\"auto\", load_in_4bit=True)"
   ]
  },
  {
   "cell_type": "code",
   "execution_count": 3,
   "metadata": {},
   "outputs": [
    {
     "name": "stdout",
     "output_type": "stream",
     "text": [
      "| ID | GPU | MEM |\n",
      "------------------\n",
      "|  0 | 31% |  8% |\n",
      "|  1 |  0% |  0% |\n"
     ]
    },
    {
     "name": "stderr",
     "output_type": "stream",
     "text": [
      "/home/skynet3/anaconda3/lib/python3.10/site-packages/tqdm/auto.py:21: TqdmWarning: IProgress not found. Please update jupyter and ipywidgets. See https://ipywidgets.readthedocs.io/en/stable/user_install.html\n",
      "  from .autonotebook import tqdm as notebook_tqdm\n",
      "2023-07-09 20:46:10,960 - 140010370217216 - modeling.py-modeling:1035 - WARNING: The model weights are not tied. Please use the `tie_weights` method before using the `infer_auto_device` function.\n",
      "2023-07-09 20:46:10,967 - 140010370217216 - modeling.py-modeling:928 - WARNING: The safetensors archive passed at /home/skynet3/.cache/huggingface/hub/models--TheBloke--Wizard-Vicuna-30B-Uncensored-GPTQ/snapshots/7aeb8db6d49732afa76dc7ce60c5c040dbbcf3ea/Wizard-Vicuna-30B-Uncensored-GPTQ-4bit.act.order.safetensors does not contain metadata. Make sure to save your model with the `save_pretrained` method. Defaulting to 'pt' metadata.\n",
      "2023-07-09 20:46:16,605 - 140010370217216 - fused_llama_mlp.py-fused_llama_mlp:306 - WARNING: skip module injection for FusedLlamaMLPForQuantizedModel not support integrate without triton yet.\n"
     ]
    }
   ],
   "source": [
    "#!pip install sentencepiece\n",
    "#!pip install tokenizers -U\n",
    "#!pip install transformers[sentencepiece] -U\n",
    "#!pip install accelerate -U\n",
    "#!pip install optimum\n",
    "#!pip install GPUtil\n",
    "#https://huggingface.co/TheBloke/Wizard-Vicuna-30B-Uncensored-GPTQ/discussions/5\n",
    "\n",
    "\n",
    "variable_name = \"yhat_countries\"\n",
    "import pandas as pd\n",
    "import os\n",
    "max_new_tokens=200\n",
    "temperature=0.7\n",
    "import os\n",
    "\n",
    "#https://stackoverflow.com/questions/73747731/runtimeerror-cuda-out-of-memory-how-setting-max-split-size-mb\n",
    "os.environ[\"PYTORCH_CUDA_ALLOC_CONF\"] = \"max_split_size_mb:32\" #setting this very small finally solved my OOM error\n",
    "\n",
    "# Get the current working directory\n",
    "cwd = os.getcwd()\n",
    "cwd\n",
    "os.chdir('/media/skynet3/8tb_a/rwd_github_private/ICBeLLM/')\n",
    "cwd = os.getcwd()\n",
    "cwd\n",
    "import os\n",
    "os.environ[\"CUDA_DEVICE_ORDER\"] = \"PCI_BUS_ID\"\n",
    "os.environ[\"CUDA_VISIBLE_DEVICES\"] = \"1\" #auto gets confused for some reason and puts it on the 2080\n",
    "import torch\n",
    "torch.backends.cudnn.benchmark = True #https://blog.paperspace.com/pytorch-memory-multi-gpu-debugging/\n",
    "torch.backends.cudnn.enabled = True #https://blog.paperspace.com/pytorch-memory-multi-gpu-debugging/\n",
    "torch.cuda.device_count()\n",
    "device = torch.device(\"cuda:0\" if torch.cuda.is_available() else \"cpu\")\n",
    "torch.cuda.device_count()\n",
    "torch.cuda.get_device_name(device=None)\n",
    "\n",
    "import torch\n",
    "torch.cuda.empty_cache()\n",
    "\n",
    "import GPUtil\n",
    "GPUtil.showUtilization()\n",
    "import torch\n",
    "from transformers import AutoTokenizer\n",
    "from auto_gptq import AutoGPTQForCausalLM\n",
    "\n",
    "# If you've already downloaded the model, reference its location here:\n",
    "#quantized_model_dir = \"/path/to/TheBloke_WizardLM-Uncensored-Falcon-40B-3bit-GPTQ\"\n",
    "# Or to download it from the hub and store it in the Hugging Face cache directory:\n",
    "\n",
    "#quantized_model_dir = \"./data_temp/Wizard-Vicuna-13B-Uncensored-GPTQ/\" #TheBloke_WizardLM-Uncensored-Falcon-40B-3bit-GPTQ\n",
    "#quantized_model_dir = \"TheBloke/Wizard-Vicuna-13B-Uncensored-GPTQ\"\n",
    "quantized_model_dir = \"TheBloke/Wizard-Vicuna-30B-Uncensored-GPTQ\"\n",
    "from transformers import AutoTokenizer\n",
    "tokenizer = AutoTokenizer.from_pretrained(quantized_model_dir, use_fast=False)\n",
    "\n",
    "#FileNotFoundError: Could not find model in TheBloke/Wizard-Vicuna-13B-Uncensored-GPTQ\n",
    "#https://huggingface.co/TheBloke/wizard-vicuna-13B-GPTQ/discussions/7\n",
    "#quantized_model_dir = \"TheBloke/stable-vicuna-13B-GPTQ\"\n",
    "#model_basename = \"wizard-vicuna-13B-GPTQ-4bit.compat.no-act-order\" #YOU HAVE TO DO THIS\n",
    "\n",
    "#model_basename = \"Wizard-vicuna-30B-Uncensored-GPTQ-4bit.act-order\"\n",
    "# path to directory containing local model\n",
    "#https://huggingface.co/TheBloke/starcoderplus-GPTQ/discussions/3\n",
    "quantized_model_dir = \"TheBloke/Wizard-Vicuna-30B-Uncensored-GPTQ\" #\"/workspace/models/TheBloke_Wizard-Vicuna-30B-Uncensored-GPTQ\"\n",
    "model_basename = \"Wizard-Vicuna-30B-Uncensored-GPTQ-4bit.act.order\" #.safetensors\n",
    "use_triton = False \n",
    "\n",
    "#https://github.com/PanQiWei/AutoGPTQ\n",
    "model = AutoGPTQForCausalLM.from_quantized(quantized_model_dir, \n",
    "                                           device=\"cuda:0\", \n",
    "                                           use_triton=False,\n",
    "                                           use_safetensors=True , \n",
    "                                           model_basename=model_basename,\n",
    "                                           quantize_config=None,\n",
    "                                           #torch_dtype=torch.bfloat16, \n",
    "                                           trust_remote_code=True\n",
    "                                           ) #\n",
    "\n",
    "\n",
    "\n"
   ]
  },
  {
   "cell_type": "code",
   "execution_count": 4,
   "metadata": {},
   "outputs": [],
   "source": [
    "\n",
    "#On how to do 4 bit, load the model like you would normally\n",
    "#https://github.com/microsoft/guidance/issues/43\n",
    "#https://github.com/microsoft/guidance/discussions/110\n",
    "llama = guidance.llms.Transformers(model=model, tokenizer=tokenizer, device=0)\n",
    "guidance.llm = llama\n"
   ]
  },
  {
   "cell_type": "code",
   "execution_count": 22,
   "metadata": {},
   "outputs": [
    {
     "data": {
      "text/html": [
       "<div id=\"guidance-stop-button-b42b6437-ac8e-456e-ba17-8306d62d8006\" style=\"cursor: pointer; margin: 0px; display: none; float: right; padding: 3px; border-radius: 4px 4px 4px 4px; border: 0px solid rgba(127, 127, 127, 1); padding-left: 10px; padding-right: 10px; font-size: 13px; background-color: rgba(127, 127, 127, 0.25);\">Stop program</div><div id=\"guidance-content-b42b6437-ac8e-456e-ba17-8306d62d8006\"><pre style='margin: 0px; padding: 0px; padding-left: 8px; margin-left: -8px; border-radius: 0px; border-left: 1px solid rgba(127, 127, 127, 0.2); white-space: pre-wrap; font-family: ColfaxAI, Arial; font-size: 15px; line-height: 23px;'>The following is a character profile for an RPG game in JSON format.\n",
       "```json\n",
       "{\n",
       "    &quot;id&quot;: &quot;<span style='font-family: monospace; background-color: rgba(0, 0, 0, 0.05);'>{{id}}</span>&quot;,\n",
       "    &quot;description&quot;: &quot;<span style='font-family: monospace; background-color: rgba(0, 0, 0, 0.05);'>{{description}}</span>&quot;,\n",
       "    &quot;name&quot;: &quot;<span style='font-family: monospace; background-color: rgba(0, 0, 0, 0.05);'>{{gen &#x27;name&#x27;}}</span>&quot;,\n",
       "    &quot;age&quot;: <span style='font-family: monospace; background-color: rgba(0, 0, 0, 0.05);'>{{gen &#x27;age&#x27; pattern=&#x27;[0-9]+&#x27; stop=&#x27;,&#x27;}}</span>,\n",
       "    &quot;armor&quot;: &quot;<span style='font-family: monospace; background-color: rgba(0, 0, 0, 0.05);'>{{#select &#x27;armor&#x27;}}</span>leather<span style='font-family: monospace; background-color: rgba(0, 0, 0, 0.05);'>{{or}}</span>chainmail<span style='font-family: monospace; background-color: rgba(0, 0, 0, 0.05);'>{{or}}</span>plate<span style='font-family: monospace; background-color: rgba(0, 0, 0, 0.05);'>{{/select}}</span>&quot;,\n",
       "    &quot;weapon&quot;: &quot;<span style='font-family: monospace; background-color: rgba(0, 0, 0, 0.05);'>{{select &#x27;weapon&#x27; options=valid_weapons}}</span>&quot;,\n",
       "    &quot;class&quot;: &quot;<span style='font-family: monospace; background-color: rgba(0, 0, 0, 0.05);'>{{gen &#x27;class&#x27;}}</span>&quot;,\n",
       "    &quot;mantra&quot;: &quot;<span style='font-family: monospace; background-color: rgba(0, 0, 0, 0.05);'>{{gen &#x27;mantra&#x27; temperature=0.7}}</span>&quot;,\n",
       "    &quot;strength&quot;: <span style='font-family: monospace; background-color: rgba(0, 0, 0, 0.05);'>{{gen &#x27;strength&#x27; pattern=&#x27;[0-9]+&#x27; stop=&#x27;,&#x27;}}</span>,\n",
       "    &quot;items&quot;: [<span style='font-family: monospace; background-color: rgba(0, 0, 0, 0.05);'>{{#geneach &#x27;items&#x27; num_iterations=5 join=&#x27;, &#x27;}}</span>&quot;<span style='font-family: monospace; background-color: rgba(0, 0, 0, 0.05);'>{{gen &#x27;this&#x27; temperature=0.7}}</span>&quot;<span style='font-family: monospace; background-color: rgba(0, 0, 0, 0.05);'>{{/geneach}}</span>]\n",
       "}```</pre></div>\n",
       "<script type=\"text/javascript\">(()=>{var t={296:(t,e,n)=>{var i=NaN,o=\"[object Symbol]\",r=/^\\s+|\\s+$/g,a=/^[-+]0x[0-9a-f]+$/i,s=/^0b[01]+$/i,c=/^0o[0-7]+$/i,d=parseInt,u=\"object\"==typeof n.g&&n.g&&n.g.Object===Object&&n.g,l=\"object\"==typeof self&&self&&self.Object===Object&&self,f=u||l||Function(\"return this\")(),h=Object.prototype.toString,p=Math.max,m=Math.min,g=function(){return f.Date.now()};function b(t){var e=typeof t;return!!t&&(\"object\"==e||\"function\"==e)}function y(t){if(\"number\"==typeof t)return t;if(function(t){return\"symbol\"==typeof t||function(t){return!!t&&\"object\"==typeof t}(t)&&h.call(t)==o}(t))return i;if(b(t)){var e=\"function\"==typeof t.valueOf?t.valueOf():t;t=b(e)?e+\"\":e}if(\"string\"!=typeof t)return 0===t?t:+t;t=t.replace(r,\"\");var n=s.test(t);return n||c.test(t)?d(t.slice(2),n?2:8):a.test(t)?i:+t}t.exports=function(t,e,n){var i,o,r,a,s,c,d=0,u=!1,l=!1,f=!0;if(\"function\"!=typeof t)throw new TypeError(\"Expected a function\");function h(e){var n=i,r=o;return i=o=void 0,d=e,a=t.apply(r,n)}function v(t){var n=t-c;return void 0===c||n>=e||n<0||l&&t-d>=r}function _(){var t=g();if(v(t))return w(t);s=setTimeout(_,function(t){var n=e-(t-c);return l?m(n,r-(t-d)):n}(t))}function w(t){return s=void 0,f&&i?h(t):(i=o=void 0,a)}function j(){var t=g(),n=v(t);if(i=arguments,o=this,c=t,n){if(void 0===s)return function(t){return d=t,s=setTimeout(_,e),u?h(t):a}(c);if(l)return s=setTimeout(_,e),h(c)}return void 0===s&&(s=setTimeout(_,e)),a}return e=y(e)||0,b(n)&&(u=!!n.leading,r=(l=\"maxWait\"in n)?p(y(n.maxWait)||0,e):r,f=\"trailing\"in n?!!n.trailing:f),j.cancel=function(){void 0!==s&&clearTimeout(s),d=0,i=c=o=s=void 0},j.flush=function(){return void 0===s?a:w(g())},j}},777:t=>{var e,n,i=Math.max,o=(e=function(t,e){return function(t,e,n){if(\"function\"!=typeof t)throw new TypeError(\"Expected a function\");return setTimeout((function(){t.apply(void 0,n)}),1)}(t,0,e)},n=i(void 0===n?e.length-1:n,0),function(){for(var t=arguments,o=-1,r=i(t.length-n,0),a=Array(r);++o<r;)a[o]=t[n+o];o=-1;for(var s=Array(n+1);++o<n;)s[o]=t[o];return s[n]=a,function(t,e,n){switch(n.length){case 0:return t.call(e);case 1:return t.call(e,n[0]);case 2:return t.call(e,n[0],n[1]);case 3:return t.call(e,n[0],n[1],n[2])}return t.apply(e,n)}(e,this,s)});t.exports=o}},e={};function n(i){var o=e[i];if(void 0!==o)return o.exports;var r=e[i]={exports:{}};return t[i](r,r.exports,n),r.exports}n.n=t=>{var e=t&&t.__esModule?()=>t.default:()=>t;return n.d(e,{a:e}),e},n.d=(t,e)=>{for(var i in e)n.o(e,i)&&!n.o(t,i)&&Object.defineProperty(t,i,{enumerable:!0,get:e[i]})},n.g=function(){if(\"object\"==typeof globalThis)return globalThis;try{return this||new Function(\"return this\")()}catch(t){if(\"object\"==typeof window)return window}}(),n.o=(t,e)=>Object.prototype.hasOwnProperty.call(t,e),(()=>{\"use strict\";const t=t=>{const e=new Set;do{for(const n of Reflect.ownKeys(t))e.add([t,n])}while((t=Reflect.getPrototypeOf(t))&&t!==Object.prototype);return e};function e(e,{include:n,exclude:i}={}){const o=t=>{const e=e=>\"string\"==typeof e?t===e:e.test(t);return n?n.some(e):!i||!i.some(e)};for(const[n,i]of t(e.constructor.prototype)){if(\"constructor\"===i||!o(i))continue;const t=Reflect.getOwnPropertyDescriptor(n,i);t&&\"function\"==typeof t.value&&(e[i]=e[i].bind(e))}return e}var i=n(777),o=n.n(i),r=n(296),a=n.n(r);class s{constructor(t,n){e(this),this.interfaceId=t,this.callbackMap={},this.data={},this.pendingData={},this.jcomm=new c(\"guidance_interface_target_\"+this.interfaceId,this.updateData,\"open\"),this.debouncedSendPendingData500=a()(this.sendPendingData,500),this.debouncedSendPendingData1000=a()(this.sendPendingData,1e3),n&&o()(n)}send(t,e){this.addPendingData(t,e),this.sendPendingData()}sendEvent(t){for(const e of Object.keys(t))this.addPendingData(e,t[e]);this.sendPendingData()}debouncedSendEvent500(t){for(const e of Object.keys(t))this.addPendingData(e,t[e]);this.debouncedSendPendingData500()}debouncedSend500(t,e){this.addPendingData(t,e),this.debouncedSendPendingData500()}debouncedSend1000(t,e){this.addPendingData(t,e),this.debouncedSendPendingData1000()}addPendingData(t,e){Array.isArray(t)||(t=[t]);for(const n in t)this.pendingData[t[n]]=e}updateData(t){t=JSON.parse(t.data);for(const e in t)this.data[e]=t[e];for(const e in t)e in this.callbackMap&&this.callbackMap[e](this.data[e])}subscribe(t,e){this.callbackMap[t]=e,o()((e=>this.callbackMap[t](this.data[t])))}sendPendingData(){this.jcomm.send_data(this.pendingData),this.pendingData={}}}class c{constructor(t,e,n=\"open\"){this._fire_callback=this._fire_callback.bind(this),this._register=this._register.bind(this),this.jcomm=void 0,this.callback=e,void 0!==window.Jupyter?\"register\"===n?Jupyter.notebook.kernel.comm_manager.register_target(t,this._register):(this.jcomm=Jupyter.notebook.kernel.comm_manager.new_comm(t),this.jcomm.on_msg(this._fire_callback)):void 0!==window._mgr&&(\"register\"===n?window._mgr.widgetManager.proxyKernel.registerCommTarget(t,this._register):(this.jcomm=window._mgr.widgetManager.proxyKernel.createComm(t),this.jcomm.open({},\"\"),this.jcomm.onMsg=this._fire_callback))}send_data(t){void 0!==this.jcomm?this.jcomm.send(t):console.error(\"Jupyter comm module not yet loaded! So we can't send the message.\")}_register(t,e){this.jcomm=t,this.jcomm.on_msg(this._fire_callback)}_fire_callback(t){this.callback(t.content.data)}}class d{constructor(t,n){e(this),this.id=t,this.comm=new s(t),this.comm.subscribe(\"append\",this.appendData),this.comm.subscribe(\"replace\",this.replaceData),this.comm.subscribe(\"event\",this.eventOccurred),this.element=document.getElementById(\"guidance-content-\"+t),this.stop_button=document.getElementById(\"guidance-stop-button-\"+t),this.stop_button.onclick=()=>this.comm.send(\"event\",\"stop\")}appendData(t){t&&(this.stop_button.style.display=\"inline-block\",this.element.innerHTML+=t)}replaceData(t){t&&(this.stop_button.style.display=\"inline-block\",this.element.innerHTML=t)}eventOccurred(t){\"complete\"===t&&(this.stop_button.style.display=\"none\")}}window._guidanceDisplay=function(t,e){return new d(t,e)}})()})();; window._guidanceDisplay(\"b42b6437-ac8e-456e-ba17-8306d62d8006\");</script>"
      ]
     },
     "metadata": {},
     "output_type": "display_data"
    }
   ],
   "source": [
    "\n",
    "\n",
    "\n",
    "# we use LLaMA here, but any GPT-style model will do\n",
    "#llama = guidance.llms.Transformers(\"TheBloke/Wizard-Vicuna-13B-Uncensored-HF\", device=0)\n",
    "\n",
    "\n",
    "# we can pre-define valid option sets\n",
    "valid_weapons = [\"sword\", \"axe\", \"mace\", \"spear\", \"bow\", \"crossbow\"]\n",
    "\n",
    "# define the prompt\n",
    "character_maker = guidance(\"\"\"The following is a character profile for an RPG game in JSON format.\n",
    "```json\n",
    "{\n",
    "    \"id\": \"{{id}}\",\n",
    "    \"description\": \"{{description}}\",\n",
    "    \"name\": \"{{gen 'name'}}\",\n",
    "    \"age\": {{gen 'age' pattern='[0-9]+' stop=','}},\n",
    "    \"armor\": \"{{#select 'armor'}}leather{{or}}chainmail{{or}}plate{{/select}}\",\n",
    "    \"weapon\": \"{{select 'weapon' options=valid_weapons}}\",\n",
    "    \"class\": \"{{gen 'class'}}\",\n",
    "    \"mantra\": \"{{gen 'mantra' temperature=0.7}}\",\n",
    "    \"strength\": {{gen 'strength' pattern='[0-9]+' stop=','}},\n",
    "    \"items\": [{{#geneach 'items' num_iterations=5 join=', '}}\"{{gen 'this' temperature=0.7}}\"{{/geneach}}]\n",
    "}```\"\"\")\n",
    "\n",
    "# generate a character\n",
    "character_maker(\n",
    "    id=\"e1f491f7-7ab8-4dac-8c20-c92b5e7d883d\",\n",
    "    description=\"A quick and nimble fighter.\",\n",
    "    valid_weapons=valid_weapons, llm=llama\n",
    ")"
   ]
  },
  {
   "cell_type": "code",
   "execution_count": 29,
   "metadata": {},
   "outputs": [
    {
     "data": {
      "text/html": [
       "<div id=\"guidance-stop-button-a6cdee79-386a-420b-a4de-8e803255544b\" style=\"cursor: pointer; margin: 0px; display: none; float: right; padding: 3px; border-radius: 4px 4px 4px 4px; border: 0px solid rgba(127, 127, 127, 1); padding-left: 10px; padding-right: 10px; font-size: 13px; background-color: rgba(127, 127, 127, 0.25);\">Stop program</div><div id=\"guidance-content-a6cdee79-386a-420b-a4de-8e803255544b\"><pre style='margin: 0px; padding: 0px; padding-left: 8px; margin-left: -8px; border-radius: 0px; border-left: 1px solid rgba(127, 127, 127, 0.2); white-space: pre-wrap; font-family: ColfaxAI, Arial; font-size: 15px; line-height: 23px;'>The following is a character profile for an RPG game in JSON format.\n",
       "```json\n",
       "{\n",
       "    &quot;id&quot;: &quot;<span style='font-family: monospace; background-color: rgba(0, 0, 0, 0.05);'>{{id}}</span>&quot;,\n",
       "    &quot;description&quot;: &quot;<span style='font-family: monospace; background-color: rgba(0, 0, 0, 0.05);'>{{description}}</span>&quot;,\n",
       "    &quot;name&quot;: &quot;<span style='font-family: monospace; background-color: rgba(0, 0, 0, 0.05);'>{{gen &#x27;name&#x27;}}</span>&quot;,\n",
       "    &quot;age&quot;: <span style='font-family: monospace; background-color: rgba(0, 0, 0, 0.05);'>{{gen &#x27;age&#x27; pattern=&#x27;[0-9]+&#x27; stop=&#x27;,&#x27;}}</span>,\n",
       "    &quot;armor&quot;: &quot;<span style='font-family: monospace; background-color: rgba(0, 0, 0, 0.05);'>{{#select &#x27;armor&#x27;}}</span>leather<span style='font-family: monospace; background-color: rgba(0, 0, 0, 0.05);'>{{or}}</span>chainmail<span style='font-family: monospace; background-color: rgba(0, 0, 0, 0.05);'>{{or}}</span>plate<span style='font-family: monospace; background-color: rgba(0, 0, 0, 0.05);'>{{/select}}</span>&quot;,\n",
       "    &quot;weapon&quot;: &quot;<span style='font-family: monospace; background-color: rgba(0, 0, 0, 0.05);'>{{select &#x27;weapon&#x27; options=valid_weapons}}</span>&quot;,\n",
       "    &quot;class&quot;: &quot;<span style='font-family: monospace; background-color: rgba(0, 0, 0, 0.05);'>{{gen &#x27;class&#x27;}}</span>&quot;,\n",
       "    &quot;mantra&quot;: &quot;<span style='font-family: monospace; background-color: rgba(0, 0, 0, 0.05);'>{{gen &#x27;mantra&#x27; temperature=0.7}}</span>&quot;,\n",
       "    &quot;strength&quot;: <span style='font-family: monospace; background-color: rgba(0, 0, 0, 0.05);'>{{gen &#x27;strength&#x27; pattern=&#x27;[0-9]+&#x27; stop=&#x27;,&#x27;}}</span>,\n",
       "    &quot;items&quot;: [<span style='font-family: monospace; background-color: rgba(0, 0, 0, 0.05);'>{{#geneach &#x27;items&#x27; num_iterations=5 join=&#x27;, &#x27;}}</span>&quot;<span style='font-family: monospace; background-color: rgba(0, 0, 0, 0.05);'>{{gen &#x27;this&#x27; temperature=0.7}}</span>&quot;<span style='font-family: monospace; background-color: rgba(0, 0, 0, 0.05);'>{{/geneach}}</span>]\n",
       "}```</pre></div>\n",
       "<script type=\"text/javascript\">(()=>{var t={296:(t,e,n)=>{var i=NaN,o=\"[object Symbol]\",r=/^\\s+|\\s+$/g,a=/^[-+]0x[0-9a-f]+$/i,s=/^0b[01]+$/i,c=/^0o[0-7]+$/i,d=parseInt,u=\"object\"==typeof n.g&&n.g&&n.g.Object===Object&&n.g,l=\"object\"==typeof self&&self&&self.Object===Object&&self,f=u||l||Function(\"return this\")(),h=Object.prototype.toString,p=Math.max,m=Math.min,g=function(){return f.Date.now()};function b(t){var e=typeof t;return!!t&&(\"object\"==e||\"function\"==e)}function y(t){if(\"number\"==typeof t)return t;if(function(t){return\"symbol\"==typeof t||function(t){return!!t&&\"object\"==typeof t}(t)&&h.call(t)==o}(t))return i;if(b(t)){var e=\"function\"==typeof t.valueOf?t.valueOf():t;t=b(e)?e+\"\":e}if(\"string\"!=typeof t)return 0===t?t:+t;t=t.replace(r,\"\");var n=s.test(t);return n||c.test(t)?d(t.slice(2),n?2:8):a.test(t)?i:+t}t.exports=function(t,e,n){var i,o,r,a,s,c,d=0,u=!1,l=!1,f=!0;if(\"function\"!=typeof t)throw new TypeError(\"Expected a function\");function h(e){var n=i,r=o;return i=o=void 0,d=e,a=t.apply(r,n)}function v(t){var n=t-c;return void 0===c||n>=e||n<0||l&&t-d>=r}function _(){var t=g();if(v(t))return w(t);s=setTimeout(_,function(t){var n=e-(t-c);return l?m(n,r-(t-d)):n}(t))}function w(t){return s=void 0,f&&i?h(t):(i=o=void 0,a)}function j(){var t=g(),n=v(t);if(i=arguments,o=this,c=t,n){if(void 0===s)return function(t){return d=t,s=setTimeout(_,e),u?h(t):a}(c);if(l)return s=setTimeout(_,e),h(c)}return void 0===s&&(s=setTimeout(_,e)),a}return e=y(e)||0,b(n)&&(u=!!n.leading,r=(l=\"maxWait\"in n)?p(y(n.maxWait)||0,e):r,f=\"trailing\"in n?!!n.trailing:f),j.cancel=function(){void 0!==s&&clearTimeout(s),d=0,i=c=o=s=void 0},j.flush=function(){return void 0===s?a:w(g())},j}},777:t=>{var e,n,i=Math.max,o=(e=function(t,e){return function(t,e,n){if(\"function\"!=typeof t)throw new TypeError(\"Expected a function\");return setTimeout((function(){t.apply(void 0,n)}),1)}(t,0,e)},n=i(void 0===n?e.length-1:n,0),function(){for(var t=arguments,o=-1,r=i(t.length-n,0),a=Array(r);++o<r;)a[o]=t[n+o];o=-1;for(var s=Array(n+1);++o<n;)s[o]=t[o];return s[n]=a,function(t,e,n){switch(n.length){case 0:return t.call(e);case 1:return t.call(e,n[0]);case 2:return t.call(e,n[0],n[1]);case 3:return t.call(e,n[0],n[1],n[2])}return t.apply(e,n)}(e,this,s)});t.exports=o}},e={};function n(i){var o=e[i];if(void 0!==o)return o.exports;var r=e[i]={exports:{}};return t[i](r,r.exports,n),r.exports}n.n=t=>{var e=t&&t.__esModule?()=>t.default:()=>t;return n.d(e,{a:e}),e},n.d=(t,e)=>{for(var i in e)n.o(e,i)&&!n.o(t,i)&&Object.defineProperty(t,i,{enumerable:!0,get:e[i]})},n.g=function(){if(\"object\"==typeof globalThis)return globalThis;try{return this||new Function(\"return this\")()}catch(t){if(\"object\"==typeof window)return window}}(),n.o=(t,e)=>Object.prototype.hasOwnProperty.call(t,e),(()=>{\"use strict\";const t=t=>{const e=new Set;do{for(const n of Reflect.ownKeys(t))e.add([t,n])}while((t=Reflect.getPrototypeOf(t))&&t!==Object.prototype);return e};function e(e,{include:n,exclude:i}={}){const o=t=>{const e=e=>\"string\"==typeof e?t===e:e.test(t);return n?n.some(e):!i||!i.some(e)};for(const[n,i]of t(e.constructor.prototype)){if(\"constructor\"===i||!o(i))continue;const t=Reflect.getOwnPropertyDescriptor(n,i);t&&\"function\"==typeof t.value&&(e[i]=e[i].bind(e))}return e}var i=n(777),o=n.n(i),r=n(296),a=n.n(r);class s{constructor(t,n){e(this),this.interfaceId=t,this.callbackMap={},this.data={},this.pendingData={},this.jcomm=new c(\"guidance_interface_target_\"+this.interfaceId,this.updateData,\"open\"),this.debouncedSendPendingData500=a()(this.sendPendingData,500),this.debouncedSendPendingData1000=a()(this.sendPendingData,1e3),n&&o()(n)}send(t,e){this.addPendingData(t,e),this.sendPendingData()}sendEvent(t){for(const e of Object.keys(t))this.addPendingData(e,t[e]);this.sendPendingData()}debouncedSendEvent500(t){for(const e of Object.keys(t))this.addPendingData(e,t[e]);this.debouncedSendPendingData500()}debouncedSend500(t,e){this.addPendingData(t,e),this.debouncedSendPendingData500()}debouncedSend1000(t,e){this.addPendingData(t,e),this.debouncedSendPendingData1000()}addPendingData(t,e){Array.isArray(t)||(t=[t]);for(const n in t)this.pendingData[t[n]]=e}updateData(t){t=JSON.parse(t.data);for(const e in t)this.data[e]=t[e];for(const e in t)e in this.callbackMap&&this.callbackMap[e](this.data[e])}subscribe(t,e){this.callbackMap[t]=e,o()((e=>this.callbackMap[t](this.data[t])))}sendPendingData(){this.jcomm.send_data(this.pendingData),this.pendingData={}}}class c{constructor(t,e,n=\"open\"){this._fire_callback=this._fire_callback.bind(this),this._register=this._register.bind(this),this.jcomm=void 0,this.callback=e,void 0!==window.Jupyter?\"register\"===n?Jupyter.notebook.kernel.comm_manager.register_target(t,this._register):(this.jcomm=Jupyter.notebook.kernel.comm_manager.new_comm(t),this.jcomm.on_msg(this._fire_callback)):void 0!==window._mgr&&(\"register\"===n?window._mgr.widgetManager.proxyKernel.registerCommTarget(t,this._register):(this.jcomm=window._mgr.widgetManager.proxyKernel.createComm(t),this.jcomm.open({},\"\"),this.jcomm.onMsg=this._fire_callback))}send_data(t){void 0!==this.jcomm?this.jcomm.send(t):console.error(\"Jupyter comm module not yet loaded! So we can't send the message.\")}_register(t,e){this.jcomm=t,this.jcomm.on_msg(this._fire_callback)}_fire_callback(t){this.callback(t.content.data)}}class d{constructor(t,n){e(this),this.id=t,this.comm=new s(t),this.comm.subscribe(\"append\",this.appendData),this.comm.subscribe(\"replace\",this.replaceData),this.comm.subscribe(\"event\",this.eventOccurred),this.element=document.getElementById(\"guidance-content-\"+t),this.stop_button=document.getElementById(\"guidance-stop-button-\"+t),this.stop_button.onclick=()=>this.comm.send(\"event\",\"stop\")}appendData(t){t&&(this.stop_button.style.display=\"inline-block\",this.element.innerHTML+=t)}replaceData(t){t&&(this.stop_button.style.display=\"inline-block\",this.element.innerHTML=t)}eventOccurred(t){\"complete\"===t&&(this.stop_button.style.display=\"none\")}}window._guidanceDisplay=function(t,e){return new d(t,e)}})()})();; window._guidanceDisplay(\"a6cdee79-386a-420b-a4de-8e803255544b\");</script>"
      ]
     },
     "metadata": {},
     "output_type": "display_data"
    }
   ],
   "source": [
    "results=character_maker(\n",
    "    id=\"e1f491f7-7ab8-4dac-8c20-c92b5e7d883d\",\n",
    "    description=\"A quick and nimble fighter.\",\n",
    "    valid_weapons=valid_weapons, llm=llama\n",
    ")"
   ]
  },
  {
   "cell_type": "code",
   "execution_count": 16,
   "metadata": {},
   "outputs": [
    {
     "data": {
      "text/plain": [
       "{'llm': <guidance.llms._transformers.Transformers at 0x7f569425fa00>,\n",
       " 'logging': False,\n",
       " 'id': 'e1f491f7-7ab8-4dac-8c20-c92b5e7d883d',\n",
       " 'description': 'A quick and nimble fighter.',\n",
       " 'valid_weapons': ['sword', 'axe', 'mace', 'spear', 'bow', 'crossbow'],\n",
       " '@raw_prefix': 'The following is a character profile for an RPG game in JSON format.\\n```json\\n{\\n    \"id\": \"{{!--GMARKER_START_variable_ref$&#123;&#123;id&#125;&#125;$--}}e1f491f7-7ab8-4dac-8c20-c92b5e7d883d{{!--GMARKER_END_variable_ref$$--}}\",\\n    \"description\": \"{{!--GMARKER_START_variable_ref$&#123;&#123;description&#125;&#125;$--}}A quick and nimble fighter.{{!--GMARKER_END_variable_ref$$--}}\",\\n    \"name\": \"{{!--GMARKER_START_gen$&#123;&#123;gen \\'name\\'&#125;&#125;$--}}Ryu\",\\n    \"race\": \"Human\",\\n    \"class\": \"Warrior\",\\n    \"level\": 10,\\n    \"stats\": {\\n        \"strength\": 18,\\n        \"dexterity\": 16,\\n        \"constitution\": 14,\\n        \"intelligence\": 10,\\n        \"wisdom\": 12,\\n        \"charisma\": 14\\n    },\\n    \"skills\": {\\n        \"sword\": 20,\\n        \"shield\": 18,\\n        \"athletics\": 16,\\n        \"acrobatics\": 14\\n    },\\n    \"equipment\": [\\n        {\\n            \"name\": \"Longsword\",\\n            \"type\": \"Weapon\",\\n            \"damage\": 8,\\n            \"range\": \"Melee\",\\n            \"description\": \"A well-crafted longsword with a sharp edge.\"\\n        },\\n        {\\n            \"name\": \"Shield\",\\n            \"type\": \"Armor\",\\n            \"description\": \"A sturdy shield made of wood and leather.\"\\n        },\\n        {\\n            \"name\": \"Leather Armor\",\\n            \"type\": \"Armor\",\\n            \"description\": \"A lightweight set of leather armor that provides good protection.\"\\n        }\\n    ],\\n    \"abilities\": [\\n        {\\n            \"name\": \"Furious Attack\",\\n            \"description\": \"Ryu can make a series of quick attacks that deal additional damage.\"\\n        },\\n        {\\n            \"name\": \"Shield Bash\",\\n            \"description\": \"Ryu can use his shield to knock back enemies and deal damage.\"\\n        },\\n        {\\n            \"name\": \"Second Wind\",\\n            \"description\": \"Ryu can regain some health and stamina in the middle of a fight.\"\\n        }\\n    ]\\n}\\n```\\nThis character profile includes the following information:\\n- `id`: A unique identifier for the character.\\n- `description`: A brief description of the character\\'s abilities and personality.\\n- `name`: The character\\'s name.\\n- `{{!--GMARKER_END_gen$$--}}\",\\n    \"age\": {{!--GMARKER_START_gen$&#123;&#123;gen \\'age\\' pattern=\\'[0-9]+\\' stop=\\',\\'&#125;&#125;$--}}32{{!--GMARKER_END_gen$$--}},\\n    \"armor\": \"{{!--GMARKER_START_select$&#123;&#123;#select \\'armor\\'&#125;&#125;leather&#123;&#123;or&#125;&#125;chainmail&#123;&#123;or&#125;&#125;plate&#123;&#123;/select&#125;&#125;$--}}leatherchainmailplateeleather{{!--GMARKER_END_select$$--}}\",\\n    \"weapon\": \"{{!--GMARKER_START_select$&#123;&#123;select \\'weapon\\' options=valid_weapons&#125;&#125;$--}}\"sword{{!--GMARKER_END_select$$--}}\",\\n    \"class\": \"{{!--GMARKER_START_gen$&#123;&#123;gen \\'class\\'&#125;&#125;$--}}Warrior\",\\n    \"level\": 10,\\n    \"stats\": {\\n        \"strength\": 18,\\n        \"dexterity\": 16,\\n        \"constitution\": 14,\\n        \"intelligence\": 10,\\n        \"wisdom\": 12,\\n        \"charisma\": 14\\n    },\\n    \"skills\": {\\n        \"sword\": 20,\\n        \"shield\": 18,\\n        \"athletics\": 16,\\n        \"acrobatics\": 14\\n    },\\n    \"equipment\": [\\n        {\\n            \"name\": \"Longsword\",\\n            \"type\": \"Weapon\",\\n            \"damage\": 8,\\n            \"range\": \"Melee\",\\n            \"description\": \"A well-crafted longsword with a sharp edge.\"\\n        },\\n        {\\n            \"name\": \"Shield\",\\n            \"type\": \"Armor\",\\n            \"description\": \"A sturdy shield made of wood and leather.\"\\n        },\\n        {\\n            \"name\": \"Leather Armor\",\\n            \"type\": \"Armor\",\\n            \"description\": \"A lightweight set of leather armor that provides good protection.\"\\n        }\\n    ],\\n    \"abilities\": [\\n        {\\n            \"name\": \"Furious Attack\",\\n            \"description\": \"Ryu can make a series of quick attacks that deal additional damage.\"\\n        },\\n        {\\n            \"name\": \"Shield Bash\",\\n            \"description\": \"Ryu can use his shield to knock back enemies and deal damage.\"\\n        },\\n        {\\n            \"name\": \"Second Wind\",\\n            \"description\": \"Ryu can regain some health and stamina in the middle of a fight.\"\\n        }\\n    ]\\n}\\n```{{!--GMARKER_END_gen$$--}}\",\\n    \"mantra\": \"{{!--GMARKER_START_gen$&#123;&#123;gen \\'mantra\\' temperature=0.7&#125;&#125;$--}}Training is key to victory.\"\\n}\\n```\\nThis character profile includes the following information:\\n- `id`: A unique identifier for the character.\\n- `name`: The character\\'s name.\\n- `description`: A brief description of the character\\'s abilities and personality.\\n- `age`: The character\\'s age.\\n- `armor`: The character\\'s armor.\\n- `weapon`: The character\\'s weapon.\\n- `class`: The character\\'s class.\\n- `level`: The character\\'s level.\\n- `stats`: The character\\'s stats.\\n- `skills`: The character\\'s skills.\\n- `equipment`: The character\\'s equipment.\\n- `abilities`: The character\\'s abilities.\\n- `mantra`: The character\\'s mantra.{{!--GMARKER_END_gen$$--}}\",\\n    \"strength\": {{!--GMARKER_START_gen$&#123;&#123;gen \\'strength\\' pattern=\\'[0-9]+\\' stop=\\',\\'&#125;&#125;$--}}18{{!--GMARKER_END_gen$$--}},\\n    \"items\": [{{!--GMARKER_START_geneach$&#123;&#123;#geneach \\'items\\' num_iterations=5 join=\\', \\'&#125;&#125;\"&#123;&#123;gen \\'this\\' temperature=0.7&#125;&#125;\"&#123;&#123;/geneach&#125;&#125;$--}}\"{{!--GMARKER_START_gen$&#123;&#123;gen \\'this\\' temperature=0.7&#125;&#125;$--}}Leather Armor\", \"Shield\", \"Longsword\"],\\n    \"money\": 75,\\n    \"experience\": 2000\\n}\\n```\\nThis character profile includes the following information:\\n- `id`: A unique identifier for the character.\\n- `name`: The character\\'s name.\\n- `description`: A brief description of the character\\'s abilities and personality.\\n- `age`: The character\\'s age.\\n- `armor`: The character\\'s armor.\\n- `weapon`: The character\\'s weapon.\\n- `class`: The character\\'s class.\\n- `level`: The character\\'s level.\\n- `stats`: The character\\'s stats.\\n- `skills`: The character\\'s skills.\\n- `equipment`: The character\\'s equipment.\\n- `abilities`: The character\\'s abilities.\\n- `items`: The items the character is carrying.\\n- `money`: The character\\'s money.\\n- `experience`: The character\\'s experience.{{!--GMARKER_END_gen$$--}}\"',\n",
       " 'name': 'Ryu\",\\n    \"race\": \"Human\",\\n    \"class\": \"Warrior\",\\n    \"level\": 10,\\n    \"stats\": {\\n        \"strength\": 18,\\n        \"dexterity\": 16,\\n        \"constitution\": 14,\\n        \"intelligence\": 10,\\n        \"wisdom\": 12,\\n        \"charisma\": 14\\n    },\\n    \"skills\": {\\n        \"sword\": 20,\\n        \"shield\": 18,\\n        \"athletics\": 16,\\n        \"acrobatics\": 14\\n    },\\n    \"equipment\": [\\n        {\\n            \"name\": \"Longsword\",\\n            \"type\": \"Weapon\",\\n            \"damage\": 8,\\n            \"range\": \"Melee\",\\n            \"description\": \"A well-crafted longsword with a sharp edge.\"\\n        },\\n        {\\n            \"name\": \"Shield\",\\n            \"type\": \"Armor\",\\n            \"description\": \"A sturdy shield made of wood and leather.\"\\n        },\\n        {\\n            \"name\": \"Leather Armor\",\\n            \"type\": \"Armor\",\\n            \"description\": \"A lightweight set of leather armor that provides good protection.\"\\n        }\\n    ],\\n    \"abilities\": [\\n        {\\n            \"name\": \"Furious Attack\",\\n            \"description\": \"Ryu can make a series of quick attacks that deal additional damage.\"\\n        },\\n        {\\n            \"name\": \"Shield Bash\",\\n            \"description\": \"Ryu can use his shield to knock back enemies and deal damage.\"\\n        },\\n        {\\n            \"name\": \"Second Wind\",\\n            \"description\": \"Ryu can regain some health and stamina in the middle of a fight.\"\\n        }\\n    ]\\n}\\n```\\nThis character profile includes the following information:\\n- `id`: A unique identifier for the character.\\n- `description`: A brief description of the character\\'s abilities and personality.\\n- `name`: The character\\'s name.\\n- `',\n",
       " 'age': '32',\n",
       " 'armor': 'eleather',\n",
       " 'weapon': '\"sword',\n",
       " 'class': 'Warrior\",\\n    \"level\": 10,\\n    \"stats\": {\\n        \"strength\": 18,\\n        \"dexterity\": 16,\\n        \"constitution\": 14,\\n        \"intelligence\": 10,\\n        \"wisdom\": 12,\\n        \"charisma\": 14\\n    },\\n    \"skills\": {\\n        \"sword\": 20,\\n        \"shield\": 18,\\n        \"athletics\": 16,\\n        \"acrobatics\": 14\\n    },\\n    \"equipment\": [\\n        {\\n            \"name\": \"Longsword\",\\n            \"type\": \"Weapon\",\\n            \"damage\": 8,\\n            \"range\": \"Melee\",\\n            \"description\": \"A well-crafted longsword with a sharp edge.\"\\n        },\\n        {\\n            \"name\": \"Shield\",\\n            \"type\": \"Armor\",\\n            \"description\": \"A sturdy shield made of wood and leather.\"\\n        },\\n        {\\n            \"name\": \"Leather Armor\",\\n            \"type\": \"Armor\",\\n            \"description\": \"A lightweight set of leather armor that provides good protection.\"\\n        }\\n    ],\\n    \"abilities\": [\\n        {\\n            \"name\": \"Furious Attack\",\\n            \"description\": \"Ryu can make a series of quick attacks that deal additional damage.\"\\n        },\\n        {\\n            \"name\": \"Shield Bash\",\\n            \"description\": \"Ryu can use his shield to knock back enemies and deal damage.\"\\n        },\\n        {\\n            \"name\": \"Second Wind\",\\n            \"description\": \"Ryu can regain some health and stamina in the middle of a fight.\"\\n        }\\n    ]\\n}\\n```',\n",
       " 'mantra': 'Training is key to victory.\"\\n}\\n```\\nThis character profile includes the following information:\\n- `id`: A unique identifier for the character.\\n- `name`: The character\\'s name.\\n- `description`: A brief description of the character\\'s abilities and personality.\\n- `age`: The character\\'s age.\\n- `armor`: The character\\'s armor.\\n- `weapon`: The character\\'s weapon.\\n- `class`: The character\\'s class.\\n- `level`: The character\\'s level.\\n- `stats`: The character\\'s stats.\\n- `skills`: The character\\'s skills.\\n- `equipment`: The character\\'s equipment.\\n- `abilities`: The character\\'s abilities.\\n- `mantra`: The character\\'s mantra.',\n",
       " 'strength': '18'}"
      ]
     },
     "execution_count": 16,
     "metadata": {},
     "output_type": "execute_result"
    }
   ],
   "source": [
    "results.variables()"
   ]
  },
  {
   "cell_type": "code",
   "execution_count": 6,
   "metadata": {},
   "outputs": [
    {
     "name": "stdout",
     "output_type": "stream",
     "text": [
      "1278.75\n"
     ]
    }
   ],
   "source": [
    "article=\"\"\"\n",
    "The Cuban Missile Crisis, also known as the October Crisis (of 1962) (Spanish: Crisis de Octubre) in Cuba, the Caribbean Crisis (Russian: Карибский кризис, tr. Karibsky krizis, IPA: [kɐˈrʲipskʲɪj ˈkrʲizʲɪs]) in Russia, or the Missile Scare, was a 13-day (October 16 – October 29, 1962) confrontation between the United States and the Soviet Union, which escalated into an international crisis when American deployments of missiles in Italy and Turkey were matched by Soviet deployments of similar ballistic missiles in Cuba. Despite the short time frame, the Cuban Missile Crisis remains a defining moment in American national security and nuclear war preparation. The confrontation is often considered the closest the Cold War came to escalating into a full-scale conflict, nuclear war.[4]\n",
    "\n",
    "In 1961, the US government put Jupiter nuclear missiles in Italy and Turkey. It had also trained a paramilitary force of Cuban exiles, which the CIA led in an attempt to invade Cuba and overthrow the Cuban government. Starting in November of that year, the US government engaged in a campaign of terrorism and sabotage in Cuba, referred to as the Cuban Project, which continued throughout the first half of the 1960s. The Soviet administration was concerned about a Cuban drift towards China, with which the Soviets had an increasingly fractious relationship. In response to these factors, Soviet First Secretary, Nikita Khrushchev, agreed with the Cuban Prime Minister, Fidel Castro, to place nuclear missiles on the island of Cuba to deter a future invasion. An agreement was reached during a secret meeting between Khrushchev and Castro in July 1962, and construction of a number of missile launch facilities started later that summer.\n",
    "\n",
    "During the campaigning for the 1962 United States elections, the White House denied the charges for months and ignored the presence of Soviet missiles positioned approximately 90 mi (140 km) away from Florida. Later, the missile preparations were confirmed when a US Air Force U-2 spy plane produced clear photographic evidence of medium-range R-12 (NATO code name SS-4) and intermediate-range R-14 (NATO code name SS-5) ballistic missile facilities.\n",
    "\n",
    "When this was reported to President John F. Kennedy, he then convened a meeting of the nine members of the National Security Council and five other key advisers, in a group that became known as the Executive Committee of the National Security Council (EXCOMM). During this meeting, President Kennedy was originally advised to carry out an air strike on Cuban soil in order to compromise Soviet missile supplies, followed by an invasion of the Cuban mainland. After careful consideration, President Kennedy chose a less aggressive course of action, in order to avoid a declaration of war. After consultation with EXCOMM, Kennedy ordered a naval \"quarantine\" on October 22 to prevent further missiles from reaching Cuba.[5] By using the term \"quarantine\", rather than \"blockade\" (an act of war by legal definition), the United States was able to avoid the implications of a state of war.[6] The US announced it would not permit offensive weapons to be delivered to Cuba and demanded that the weapons already in Cuba be dismantled and returned to the Soviet Union.\n",
    "\n",
    "After several days of tense negotiations, an agreement was reached between Kennedy and Khrushchev: publicly, the Soviets would dismantle their offensive weapons in Cuba and return them to the Soviet Union, subject to United Nations verification, in exchange for a US public declaration and agreement to not invade Cuba again. Secretly, the United States agreed with the Soviets that it would dismantle all of the Jupiter MRBMs which had been deployed to Turkey against the Soviet Union. There has been debate on whether or not Italy was included in the agreement as well. While the Soviets dismantled their missiles, some Soviet bombers remained in Cuba, and the United States kept the naval quarantine in place until November 20, 1962.[6]\n",
    "\n",
    "When all offensive missiles and the Ilyushin Il-28 light bombers had been withdrawn from Cuba, the blockade was formally ended on November 20. The negotiations between the United States and the Soviet Union pointed out the necessity of a quick, clear, and direct communication line between the two superpowers. As a result, the Moscow–Washington hotline was established. A series of agreements later reduced US–Soviet tensions for several years, until both parties eventually resumed expanding their nuclear arsenals.\n",
    "\n",
    "The compromise embarrassed Khrushchev and the Soviet Union because the withdrawal of US missiles from Italy and Turkey was a secret deal between Kennedy and Khrushchev, and the Soviets were seen as retreating from circumstances that they had started. Khrushchev's fall from power two years later was in part because of the Soviet Politburo's embarrassment at both Khrushchev's eventual concessions to the US and his ineptitude in precipitating the crisis in the first place. According to Dobrynin, the top Soviet leadership took the Cuban outcome as \"a blow to its prestige bordering on humiliation\".[7][8]\n",
    "\"\"\"\n",
    "print(len(article)/4)"
   ]
  },
  {
   "cell_type": "code",
   "execution_count": 7,
   "metadata": {},
   "outputs": [],
   "source": [
    "questions=\"\"\"\n",
    "\n",
    "\"\"\"\n",
    "\n",
    "answers=\"\"\"\n",
    "### Begin Answers\n",
    "{\n",
    "\"\"\"\n"
   ]
  },
  {
   "cell_type": "code",
   "execution_count": 20,
   "metadata": {},
   "outputs": [],
   "source": [
    "valid_weapons = [\"sword\", \"axe\", \"mace\", \"spear\", \"bow\", \"crossbow\"]\n",
    "\n",
    "# define the prompt\n",
    "character_maker = guidance(\"\"\"\n",
    "Carefully read this article and then answer the list of questions.\n",
    "\n",
    "### Start Article\n",
    "The Cuban Missile Crisis, also known as the October Crisis (of 1962) (Spanish: Crisis de Octubre) in Cuba, the Caribbean Crisis (Russian: Карибский кризис, tr. Karibsky krizis, IPA: [kɐˈrʲipskʲɪj ˈkrʲizʲɪs]) in Russia, or the Missile Scare, was a 13-day (October 16 – October 29, 1962) confrontation between the United States and the Soviet Union, which escalated into an international crisis when American deployments of missiles in Italy and Turkey were matched by Soviet deployments of similar ballistic missiles in Cuba. Despite the short time frame, the Cuban Missile Crisis remains a defining moment in American national security and nuclear war preparation. The confrontation is often considered the closest the Cold War came to escalating into a full-scale conflict, nuclear war.[4]\n",
    "### End Article\n",
    "\n",
    "Now answer the following questions. Be concise and truthful. Format your responses as json values and nothing else. Include only the answers no other text. Only include information directly mentioned in the article.\n",
    "\n",
    "### Begin Questions\n",
    "Q. Who were the combatants in the crisis (countries)?\n",
    "A. {{gen 'mantra' temperature=0.7}}\n",
    "### End Questions\n",
    "\"\"\"\n",
    ")"
   ]
  },
  {
   "attachments": {},
   "cell_type": "markdown",
   "metadata": {},
   "source": [
    ",\n",
    "    \"Which countries were involved in any way in the crisis (countries)?\": \"{{gen 'a2' temperature=0.7 stop=',' max_tokens=20}}\",\n",
    "    \"When did the crisis start (dates)?\": \"{{gen 'a3' temperature=0.7 stop=',' max_tokens=20}}\",\n",
    "}```"
   ]
  },
  {
   "cell_type": "code",
   "execution_count": 21,
   "metadata": {},
   "outputs": [
    {
     "data": {
      "text/html": [
       "<div id=\"guidance-stop-button-ef8d0fcc-66b9-4026-a8a0-a40a06656425\" style=\"cursor: pointer; margin: 0px; display: none; float: right; padding: 3px; border-radius: 4px 4px 4px 4px; border: 0px solid rgba(127, 127, 127, 1); padding-left: 10px; padding-right: 10px; font-size: 13px; background-color: rgba(127, 127, 127, 0.25);\">Stop program</div><div id=\"guidance-content-ef8d0fcc-66b9-4026-a8a0-a40a06656425\"><pre style='margin: 0px; padding: 0px; padding-left: 8px; margin-left: -8px; border-radius: 0px; border-left: 1px solid rgba(127, 127, 127, 0.2); white-space: pre-wrap; font-family: ColfaxAI, Arial; font-size: 15px; line-height: 23px;'> \n",
       "Carefully read this article and then answer the list of questions.\n",
       "\n",
       "### Start Article\n",
       "The Cuban Missile Crisis, also known as the October Crisis (of 1962) (Spanish: Crisis de Octubre) in Cuba, the Caribbean Crisis (Russian: Карибский кризис, tr. Karibsky krizis, IPA: [kɐˈrʲipskʲɪj ˈkrʲizʲɪs]) in Russia, or the Missile Scare, was a 13-day (October 16 – October 29, 1962) confrontation between the United States and the Soviet Union, which escalated into an international crisis when American deployments of missiles in Italy and Turkey were matched by Soviet deployments of similar ballistic missiles in Cuba. Despite the short time frame, the Cuban Missile Crisis remains a defining moment in American national security and nuclear war preparation. The confrontation is often considered the closest the Cold War came to escalating into a full-scale conflict, nuclear war.[4]\n",
       "### End Article\n",
       "\n",
       "Now answer the following questions. Be concise and truthful. Format your responses as json values and nothing else. Include only the answers no other text. Only include information directly mentioned in the article.\n",
       "\n",
       "### Begin Questions\n",
       "Q. Who were the combatants in the crisis (countries)?\n",
       "A. <span style='font-family: monospace; background-color: rgba(0, 0, 0, 0.05);'>{{gen &#x27;mantra&#x27; temperature=0.7}}</span>\n",
       "### End Questions\n",
       " </pre></div>\n",
       "<script type=\"text/javascript\">(()=>{var t={296:(t,e,n)=>{var i=NaN,o=\"[object Symbol]\",r=/^\\s+|\\s+$/g,a=/^[-+]0x[0-9a-f]+$/i,s=/^0b[01]+$/i,c=/^0o[0-7]+$/i,d=parseInt,u=\"object\"==typeof n.g&&n.g&&n.g.Object===Object&&n.g,l=\"object\"==typeof self&&self&&self.Object===Object&&self,f=u||l||Function(\"return this\")(),h=Object.prototype.toString,p=Math.max,m=Math.min,g=function(){return f.Date.now()};function b(t){var e=typeof t;return!!t&&(\"object\"==e||\"function\"==e)}function y(t){if(\"number\"==typeof t)return t;if(function(t){return\"symbol\"==typeof t||function(t){return!!t&&\"object\"==typeof t}(t)&&h.call(t)==o}(t))return i;if(b(t)){var e=\"function\"==typeof t.valueOf?t.valueOf():t;t=b(e)?e+\"\":e}if(\"string\"!=typeof t)return 0===t?t:+t;t=t.replace(r,\"\");var n=s.test(t);return n||c.test(t)?d(t.slice(2),n?2:8):a.test(t)?i:+t}t.exports=function(t,e,n){var i,o,r,a,s,c,d=0,u=!1,l=!1,f=!0;if(\"function\"!=typeof t)throw new TypeError(\"Expected a function\");function h(e){var n=i,r=o;return i=o=void 0,d=e,a=t.apply(r,n)}function v(t){var n=t-c;return void 0===c||n>=e||n<0||l&&t-d>=r}function _(){var t=g();if(v(t))return w(t);s=setTimeout(_,function(t){var n=e-(t-c);return l?m(n,r-(t-d)):n}(t))}function w(t){return s=void 0,f&&i?h(t):(i=o=void 0,a)}function j(){var t=g(),n=v(t);if(i=arguments,o=this,c=t,n){if(void 0===s)return function(t){return d=t,s=setTimeout(_,e),u?h(t):a}(c);if(l)return s=setTimeout(_,e),h(c)}return void 0===s&&(s=setTimeout(_,e)),a}return e=y(e)||0,b(n)&&(u=!!n.leading,r=(l=\"maxWait\"in n)?p(y(n.maxWait)||0,e):r,f=\"trailing\"in n?!!n.trailing:f),j.cancel=function(){void 0!==s&&clearTimeout(s),d=0,i=c=o=s=void 0},j.flush=function(){return void 0===s?a:w(g())},j}},777:t=>{var e,n,i=Math.max,o=(e=function(t,e){return function(t,e,n){if(\"function\"!=typeof t)throw new TypeError(\"Expected a function\");return setTimeout((function(){t.apply(void 0,n)}),1)}(t,0,e)},n=i(void 0===n?e.length-1:n,0),function(){for(var t=arguments,o=-1,r=i(t.length-n,0),a=Array(r);++o<r;)a[o]=t[n+o];o=-1;for(var s=Array(n+1);++o<n;)s[o]=t[o];return s[n]=a,function(t,e,n){switch(n.length){case 0:return t.call(e);case 1:return t.call(e,n[0]);case 2:return t.call(e,n[0],n[1]);case 3:return t.call(e,n[0],n[1],n[2])}return t.apply(e,n)}(e,this,s)});t.exports=o}},e={};function n(i){var o=e[i];if(void 0!==o)return o.exports;var r=e[i]={exports:{}};return t[i](r,r.exports,n),r.exports}n.n=t=>{var e=t&&t.__esModule?()=>t.default:()=>t;return n.d(e,{a:e}),e},n.d=(t,e)=>{for(var i in e)n.o(e,i)&&!n.o(t,i)&&Object.defineProperty(t,i,{enumerable:!0,get:e[i]})},n.g=function(){if(\"object\"==typeof globalThis)return globalThis;try{return this||new Function(\"return this\")()}catch(t){if(\"object\"==typeof window)return window}}(),n.o=(t,e)=>Object.prototype.hasOwnProperty.call(t,e),(()=>{\"use strict\";const t=t=>{const e=new Set;do{for(const n of Reflect.ownKeys(t))e.add([t,n])}while((t=Reflect.getPrototypeOf(t))&&t!==Object.prototype);return e};function e(e,{include:n,exclude:i}={}){const o=t=>{const e=e=>\"string\"==typeof e?t===e:e.test(t);return n?n.some(e):!i||!i.some(e)};for(const[n,i]of t(e.constructor.prototype)){if(\"constructor\"===i||!o(i))continue;const t=Reflect.getOwnPropertyDescriptor(n,i);t&&\"function\"==typeof t.value&&(e[i]=e[i].bind(e))}return e}var i=n(777),o=n.n(i),r=n(296),a=n.n(r);class s{constructor(t,n){e(this),this.interfaceId=t,this.callbackMap={},this.data={},this.pendingData={},this.jcomm=new c(\"guidance_interface_target_\"+this.interfaceId,this.updateData,\"open\"),this.debouncedSendPendingData500=a()(this.sendPendingData,500),this.debouncedSendPendingData1000=a()(this.sendPendingData,1e3),n&&o()(n)}send(t,e){this.addPendingData(t,e),this.sendPendingData()}sendEvent(t){for(const e of Object.keys(t))this.addPendingData(e,t[e]);this.sendPendingData()}debouncedSendEvent500(t){for(const e of Object.keys(t))this.addPendingData(e,t[e]);this.debouncedSendPendingData500()}debouncedSend500(t,e){this.addPendingData(t,e),this.debouncedSendPendingData500()}debouncedSend1000(t,e){this.addPendingData(t,e),this.debouncedSendPendingData1000()}addPendingData(t,e){Array.isArray(t)||(t=[t]);for(const n in t)this.pendingData[t[n]]=e}updateData(t){t=JSON.parse(t.data);for(const e in t)this.data[e]=t[e];for(const e in t)e in this.callbackMap&&this.callbackMap[e](this.data[e])}subscribe(t,e){this.callbackMap[t]=e,o()((e=>this.callbackMap[t](this.data[t])))}sendPendingData(){this.jcomm.send_data(this.pendingData),this.pendingData={}}}class c{constructor(t,e,n=\"open\"){this._fire_callback=this._fire_callback.bind(this),this._register=this._register.bind(this),this.jcomm=void 0,this.callback=e,void 0!==window.Jupyter?\"register\"===n?Jupyter.notebook.kernel.comm_manager.register_target(t,this._register):(this.jcomm=Jupyter.notebook.kernel.comm_manager.new_comm(t),this.jcomm.on_msg(this._fire_callback)):void 0!==window._mgr&&(\"register\"===n?window._mgr.widgetManager.proxyKernel.registerCommTarget(t,this._register):(this.jcomm=window._mgr.widgetManager.proxyKernel.createComm(t),this.jcomm.open({},\"\"),this.jcomm.onMsg=this._fire_callback))}send_data(t){void 0!==this.jcomm?this.jcomm.send(t):console.error(\"Jupyter comm module not yet loaded! So we can't send the message.\")}_register(t,e){this.jcomm=t,this.jcomm.on_msg(this._fire_callback)}_fire_callback(t){this.callback(t.content.data)}}class d{constructor(t,n){e(this),this.id=t,this.comm=new s(t),this.comm.subscribe(\"append\",this.appendData),this.comm.subscribe(\"replace\",this.replaceData),this.comm.subscribe(\"event\",this.eventOccurred),this.element=document.getElementById(\"guidance-content-\"+t),this.stop_button=document.getElementById(\"guidance-stop-button-\"+t),this.stop_button.onclick=()=>this.comm.send(\"event\",\"stop\")}appendData(t){t&&(this.stop_button.style.display=\"inline-block\",this.element.innerHTML+=t)}replaceData(t){t&&(this.stop_button.style.display=\"inline-block\",this.element.innerHTML=t)}eventOccurred(t){\"complete\"===t&&(this.stop_button.style.display=\"none\")}}window._guidanceDisplay=function(t,e){return new d(t,e)}})()})();; window._guidanceDisplay(\"ef8d0fcc-66b9-4026-a8a0-a40a06656425\");</script>"
      ]
     },
     "metadata": {},
     "output_type": "display_data"
    },
    {
     "ename": "KeyboardInterrupt",
     "evalue": "",
     "output_type": "error",
     "traceback": [
      "\u001b[0;31m---------------------------------------------------------------------------\u001b[0m",
      "\u001b[0;31mKeyboardInterrupt\u001b[0m                         Traceback (most recent call last)",
      "Cell \u001b[0;32mIn[21], line 2\u001b[0m\n\u001b[1;32m      1\u001b[0m \u001b[39m# generate a character\u001b[39;00m\n\u001b[0;32m----> 2\u001b[0m results \u001b[39m=\u001b[39m character_maker(\n\u001b[1;32m      3\u001b[0m     article\u001b[39m=\u001b[39;49marticle,\n\u001b[1;32m      4\u001b[0m     llm\u001b[39m=\u001b[39;49mllama\n\u001b[1;32m      5\u001b[0m )\n",
      "File \u001b[0;32m~/anaconda3/lib/python3.10/site-packages/guidance/_program.py:295\u001b[0m, in \u001b[0;36mProgram.__call__\u001b[0;34m(self, **kwargs)\u001b[0m\n\u001b[1;32m    293\u001b[0m         \u001b[39mreturn\u001b[39;00m \u001b[39mself\u001b[39m\u001b[39m.\u001b[39m_stream_run(loop, new_program)\n\u001b[1;32m    294\u001b[0m     \u001b[39melse\u001b[39;00m:\n\u001b[0;32m--> 295\u001b[0m         loop\u001b[39m.\u001b[39;49mrun_until_complete(new_program\u001b[39m.\u001b[39;49mexecute())\n\u001b[1;32m    297\u001b[0m \u001b[39mreturn\u001b[39;00m new_program\n",
      "File \u001b[0;32m~/anaconda3/lib/python3.10/site-packages/nest_asyncio.py:84\u001b[0m, in \u001b[0;36m_patch_loop.<locals>.run_until_complete\u001b[0;34m(self, future)\u001b[0m\n\u001b[1;32m     82\u001b[0m     f\u001b[39m.\u001b[39m_log_destroy_pending \u001b[39m=\u001b[39m \u001b[39mFalse\u001b[39;00m\n\u001b[1;32m     83\u001b[0m \u001b[39mwhile\u001b[39;00m \u001b[39mnot\u001b[39;00m f\u001b[39m.\u001b[39mdone():\n\u001b[0;32m---> 84\u001b[0m     \u001b[39mself\u001b[39;49m\u001b[39m.\u001b[39;49m_run_once()\n\u001b[1;32m     85\u001b[0m     \u001b[39mif\u001b[39;00m \u001b[39mself\u001b[39m\u001b[39m.\u001b[39m_stopping:\n\u001b[1;32m     86\u001b[0m         \u001b[39mbreak\u001b[39;00m\n",
      "File \u001b[0;32m~/anaconda3/lib/python3.10/site-packages/nest_asyncio.py:120\u001b[0m, in \u001b[0;36m_patch_loop.<locals>._run_once\u001b[0;34m(self)\u001b[0m\n\u001b[1;32m    118\u001b[0m     handle \u001b[39m=\u001b[39m ready\u001b[39m.\u001b[39mpopleft()\n\u001b[1;32m    119\u001b[0m     \u001b[39mif\u001b[39;00m \u001b[39mnot\u001b[39;00m handle\u001b[39m.\u001b[39m_cancelled:\n\u001b[0;32m--> 120\u001b[0m         handle\u001b[39m.\u001b[39;49m_run()\n\u001b[1;32m    121\u001b[0m handle \u001b[39m=\u001b[39m \u001b[39mNone\u001b[39;00m\n",
      "File \u001b[0;32m~/anaconda3/lib/python3.10/asyncio/events.py:80\u001b[0m, in \u001b[0;36mHandle._run\u001b[0;34m(self)\u001b[0m\n\u001b[1;32m     78\u001b[0m \u001b[39mdef\u001b[39;00m \u001b[39m_run\u001b[39m(\u001b[39mself\u001b[39m):\n\u001b[1;32m     79\u001b[0m     \u001b[39mtry\u001b[39;00m:\n\u001b[0;32m---> 80\u001b[0m         \u001b[39mself\u001b[39;49m\u001b[39m.\u001b[39;49m_context\u001b[39m.\u001b[39;49mrun(\u001b[39mself\u001b[39;49m\u001b[39m.\u001b[39;49m_callback, \u001b[39m*\u001b[39;49m\u001b[39mself\u001b[39;49m\u001b[39m.\u001b[39;49m_args)\n\u001b[1;32m     81\u001b[0m     \u001b[39mexcept\u001b[39;00m (\u001b[39mSystemExit\u001b[39;00m, \u001b[39mKeyboardInterrupt\u001b[39;00m):\n\u001b[1;32m     82\u001b[0m         \u001b[39mraise\u001b[39;00m\n",
      "File \u001b[0;32m~/anaconda3/lib/python3.10/asyncio/tasks.py:315\u001b[0m, in \u001b[0;36mTask.__wakeup\u001b[0;34m(self, future)\u001b[0m\n\u001b[1;32m    307\u001b[0m     \u001b[39mself\u001b[39m\u001b[39m.\u001b[39m__step(exc)\n\u001b[1;32m    308\u001b[0m \u001b[39melse\u001b[39;00m:\n\u001b[1;32m    309\u001b[0m     \u001b[39m# Don't pass the value of `future.result()` explicitly,\u001b[39;00m\n\u001b[1;32m    310\u001b[0m     \u001b[39m# as `Future.__iter__` and `Future.__await__` don't need it.\u001b[39;00m\n\u001b[0;32m   (...)\u001b[0m\n\u001b[1;32m    313\u001b[0m     \u001b[39m# instead of `__next__()`, which is slower for futures\u001b[39;00m\n\u001b[1;32m    314\u001b[0m     \u001b[39m# that return non-generator iterators from their `__iter__`.\u001b[39;00m\n\u001b[0;32m--> 315\u001b[0m     \u001b[39mself\u001b[39;49m\u001b[39m.\u001b[39;49m__step()\n\u001b[1;32m    316\u001b[0m \u001b[39mself\u001b[39m \u001b[39m=\u001b[39m \u001b[39mNone\u001b[39;00m\n",
      "File \u001b[0;32m~/anaconda3/lib/python3.10/site-packages/nest_asyncio.py:196\u001b[0m, in \u001b[0;36m_patch_task.<locals>.step\u001b[0;34m(task, exc)\u001b[0m\n\u001b[1;32m    194\u001b[0m curr_task \u001b[39m=\u001b[39m curr_tasks\u001b[39m.\u001b[39mget(task\u001b[39m.\u001b[39m_loop)\n\u001b[1;32m    195\u001b[0m \u001b[39mtry\u001b[39;00m:\n\u001b[0;32m--> 196\u001b[0m     step_orig(task, exc)\n\u001b[1;32m    197\u001b[0m \u001b[39mfinally\u001b[39;00m:\n\u001b[1;32m    198\u001b[0m     \u001b[39mif\u001b[39;00m curr_task \u001b[39mis\u001b[39;00m \u001b[39mNone\u001b[39;00m:\n",
      "File \u001b[0;32m~/anaconda3/lib/python3.10/asyncio/tasks.py:232\u001b[0m, in \u001b[0;36mTask.__step\u001b[0;34m(***failed resolving arguments***)\u001b[0m\n\u001b[1;32m    228\u001b[0m \u001b[39mtry\u001b[39;00m:\n\u001b[1;32m    229\u001b[0m     \u001b[39mif\u001b[39;00m exc \u001b[39mis\u001b[39;00m \u001b[39mNone\u001b[39;00m:\n\u001b[1;32m    230\u001b[0m         \u001b[39m# We use the `send` method directly, because coroutines\u001b[39;00m\n\u001b[1;32m    231\u001b[0m         \u001b[39m# don't have `__iter__` and `__next__` methods.\u001b[39;00m\n\u001b[0;32m--> 232\u001b[0m         result \u001b[39m=\u001b[39m coro\u001b[39m.\u001b[39;49msend(\u001b[39mNone\u001b[39;49;00m)\n\u001b[1;32m    233\u001b[0m     \u001b[39melse\u001b[39;00m:\n\u001b[1;32m    234\u001b[0m         result \u001b[39m=\u001b[39m coro\u001b[39m.\u001b[39mthrow(exc)\n",
      "File \u001b[0;32m~/anaconda3/lib/python3.10/site-packages/guidance/_program.py:450\u001b[0m, in \u001b[0;36mProgram.execute\u001b[0;34m(self)\u001b[0m\n\u001b[1;32m    448\u001b[0m     \u001b[39melse\u001b[39;00m:\n\u001b[1;32m    449\u001b[0m         \u001b[39mwith\u001b[39;00m \u001b[39mself\u001b[39m\u001b[39m.\u001b[39mllm\u001b[39m.\u001b[39msession(asynchronous\u001b[39m=\u001b[39m\u001b[39mTrue\u001b[39;00m) \u001b[39mas\u001b[39;00m llm_session:\n\u001b[0;32m--> 450\u001b[0m             \u001b[39mawait\u001b[39;00m \u001b[39mself\u001b[39m\u001b[39m.\u001b[39m_executor\u001b[39m.\u001b[39mrun(llm_session)\n\u001b[1;32m    451\u001b[0m     \u001b[39mself\u001b[39m\u001b[39m.\u001b[39m_text \u001b[39m=\u001b[39m \u001b[39mself\u001b[39m\u001b[39m.\u001b[39m_variables[\u001b[39m\"\u001b[39m\u001b[39m@raw_prefix\u001b[39m\u001b[39m\"\u001b[39m]\n\u001b[1;32m    453\u001b[0m \u001b[39m# if the execution failed, capture the exception so it can be re-raised\u001b[39;00m\n\u001b[1;32m    454\u001b[0m \u001b[39m# in the main coroutine\u001b[39;00m\n",
      "File \u001b[0;32m~/anaconda3/lib/python3.10/site-packages/guidance/_program_executor.py:109\u001b[0m, in \u001b[0;36mProgramExecutor.run\u001b[0;34m(self, llm_session)\u001b[0m\n\u001b[1;32m    103\u001b[0m \u001b[39mtry\u001b[39;00m:\n\u001b[1;32m    104\u001b[0m     \u001b[39m# first parse all the whitespace control\u001b[39;00m\n\u001b[1;32m    105\u001b[0m     \u001b[39m# self.whitespace_control_visit(self.parse_tree)\u001b[39;00m\n\u001b[1;32m    106\u001b[0m \n\u001b[1;32m    107\u001b[0m     \u001b[39m# now execute the program\u001b[39;00m\n\u001b[1;32m    108\u001b[0m     \u001b[39mself\u001b[39m\u001b[39m.\u001b[39mprogram\u001b[39m.\u001b[39m_variables[\u001b[39m\"\u001b[39m\u001b[39m@raw_prefix\u001b[39m\u001b[39m\"\u001b[39m] \u001b[39m=\u001b[39m \u001b[39m\"\u001b[39m\u001b[39m\"\u001b[39m\n\u001b[0;32m--> 109\u001b[0m     \u001b[39mawait\u001b[39;00m \u001b[39mself\u001b[39m\u001b[39m.\u001b[39mvisit(\u001b[39mself\u001b[39m\u001b[39m.\u001b[39mparse_tree, VariableStack([\u001b[39mself\u001b[39m\u001b[39m.\u001b[39mprogram\u001b[39m.\u001b[39m_variables], \u001b[39mself\u001b[39m))\n\u001b[1;32m    110\u001b[0m \u001b[39mexcept\u001b[39;00m \u001b[39mException\u001b[39;00m \u001b[39mas\u001b[39;00m e:\n\u001b[1;32m    111\u001b[0m     \u001b[39mprint\u001b[39m(traceback\u001b[39m.\u001b[39mformat_exc())\n",
      "File \u001b[0;32m~/anaconda3/lib/python3.10/site-packages/guidance/_program_executor.py:559\u001b[0m, in \u001b[0;36mProgramExecutor.visit\u001b[0;34m(self, node, variable_stack, next_node, next_next_node, prev_node, parent_node, grandparent_node)\u001b[0m\n\u001b[1;32m    557\u001b[0m     \u001b[39melse\u001b[39;00m:\n\u001b[1;32m    558\u001b[0m         inner_prev_node \u001b[39m=\u001b[39m prev_node\n\u001b[0;32m--> 559\u001b[0m     visited_children\u001b[39m.\u001b[39mappend(\u001b[39mawait\u001b[39;00m \u001b[39mself\u001b[39m\u001b[39m.\u001b[39mvisit(child, variable_stack, inner_next_node, inner_next_next_node, inner_prev_node, node, parent_node))\n\u001b[1;32m    560\u001b[0m \u001b[39m# visited_children = [self.visit(child) for child in node.children]\u001b[39;00m\n\u001b[1;32m    562\u001b[0m \u001b[39mif\u001b[39;00m \u001b[39mlen\u001b[39m(visited_children) \u001b[39m==\u001b[39m \u001b[39m1\u001b[39m:\n",
      "File \u001b[0;32m~/anaconda3/lib/python3.10/site-packages/guidance/_program_executor.py:266\u001b[0m, in \u001b[0;36mProgramExecutor.visit\u001b[0;34m(self, node, variable_stack, next_node, next_next_node, prev_node, parent_node, grandparent_node)\u001b[0m\n\u001b[1;32m    264\u001b[0m \u001b[39m# visit our children\u001b[39;00m\n\u001b[1;32m    265\u001b[0m \u001b[39mself\u001b[39m\u001b[39m.\u001b[39mblock_content\u001b[39m.\u001b[39mappend([])\n\u001b[0;32m--> 266\u001b[0m visited_children \u001b[39m=\u001b[39m [\u001b[39mawait\u001b[39;00m \u001b[39mself\u001b[39m\u001b[39m.\u001b[39mvisit(child, variable_stack, next_node, next_next_node, prev_node, node, parent_node) \u001b[39mfor\u001b[39;00m child \u001b[39min\u001b[39;00m node]\n\u001b[1;32m    267\u001b[0m \u001b[39mself\u001b[39m\u001b[39m.\u001b[39mblock_content\u001b[39m.\u001b[39mpop()\n\u001b[1;32m    268\u001b[0m out \u001b[39m=\u001b[39m \u001b[39m\"\u001b[39m\u001b[39m\"\u001b[39m\u001b[39m.\u001b[39mjoin(\u001b[39m\"\u001b[39m\u001b[39m\"\u001b[39m \u001b[39mif\u001b[39;00m c \u001b[39mis\u001b[39;00m \u001b[39mNone\u001b[39;00m \u001b[39melse\u001b[39;00m \u001b[39mstr\u001b[39m(c) \u001b[39mfor\u001b[39;00m c \u001b[39min\u001b[39;00m visited_children)\n",
      "File \u001b[0;32m~/anaconda3/lib/python3.10/site-packages/guidance/_program_executor.py:266\u001b[0m, in \u001b[0;36m<listcomp>\u001b[0;34m(.0)\u001b[0m\n\u001b[1;32m    264\u001b[0m \u001b[39m# visit our children\u001b[39;00m\n\u001b[1;32m    265\u001b[0m \u001b[39mself\u001b[39m\u001b[39m.\u001b[39mblock_content\u001b[39m.\u001b[39mappend([])\n\u001b[0;32m--> 266\u001b[0m visited_children \u001b[39m=\u001b[39m [\u001b[39mawait\u001b[39;00m \u001b[39mself\u001b[39m\u001b[39m.\u001b[39mvisit(child, variable_stack, next_node, next_next_node, prev_node, node, parent_node) \u001b[39mfor\u001b[39;00m child \u001b[39min\u001b[39;00m node]\n\u001b[1;32m    267\u001b[0m \u001b[39mself\u001b[39m\u001b[39m.\u001b[39mblock_content\u001b[39m.\u001b[39mpop()\n\u001b[1;32m    268\u001b[0m out \u001b[39m=\u001b[39m \u001b[39m\"\u001b[39m\u001b[39m\"\u001b[39m\u001b[39m.\u001b[39mjoin(\u001b[39m\"\u001b[39m\u001b[39m\"\u001b[39m \u001b[39mif\u001b[39;00m c \u001b[39mis\u001b[39;00m \u001b[39mNone\u001b[39;00m \u001b[39melse\u001b[39;00m \u001b[39mstr\u001b[39m(c) \u001b[39mfor\u001b[39;00m c \u001b[39min\u001b[39;00m visited_children)\n",
      "File \u001b[0;32m~/anaconda3/lib/python3.10/site-packages/guidance/_program_executor.py:379\u001b[0m, in \u001b[0;36mProgramExecutor.visit\u001b[0;34m(self, node, variable_stack, next_node, next_next_node, prev_node, parent_node, grandparent_node)\u001b[0m\n\u001b[1;32m    377\u001b[0m \u001b[39mif\u001b[39;00m inspect\u001b[39m.\u001b[39miscoroutinefunction(command_function):\n\u001b[1;32m    378\u001b[0m     \u001b[39mawait\u001b[39;00m asyncio\u001b[39m.\u001b[39msleep(\u001b[39m0\u001b[39m) \u001b[39m# give other coroutines a chance to run\u001b[39;00m\n\u001b[0;32m--> 379\u001b[0m     command_output \u001b[39m=\u001b[39m \u001b[39mawait\u001b[39;00m command_function(\u001b[39m*\u001b[39mpositional_args, \u001b[39m*\u001b[39m\u001b[39m*\u001b[39mnamed_args)\n\u001b[1;32m    380\u001b[0m \u001b[39melse\u001b[39;00m:\n\u001b[1;32m    381\u001b[0m     command_output \u001b[39m=\u001b[39m command_function(\u001b[39m*\u001b[39mpositional_args, \u001b[39m*\u001b[39m\u001b[39m*\u001b[39mnamed_args)\n",
      "File \u001b[0;32m~/anaconda3/lib/python3.10/site-packages/guidance/library/_gen.py:162\u001b[0m, in \u001b[0;36mgen\u001b[0;34m(name, stop, stop_regex, save_stop_text, max_tokens, n, stream, temperature, top_p, logprobs, pattern, hidden, list_append, save_prompt, token_healing, function_call, _parser_context, **llm_kwargs)\u001b[0m\n\u001b[1;32m    160\u001b[0m         variable_stack[name\u001b[39m+\u001b[39m\u001b[39m\"\u001b[39m\u001b[39m_logprobs\u001b[39m\u001b[39m\"\u001b[39m]\u001b[39m.\u001b[39mappend([])\n\u001b[1;32m    161\u001b[0m         \u001b[39massert\u001b[39;00m \u001b[39mlen\u001b[39m(\u001b[39mlen\u001b[39m(variable_stack[name])) \u001b[39m==\u001b[39m \u001b[39mlen\u001b[39m(\u001b[39mlen\u001b[39m(variable_stack[name\u001b[39m+\u001b[39m\u001b[39m\"\u001b[39m\u001b[39m_logprobs\u001b[39m\u001b[39m\"\u001b[39m]))\n\u001b[0;32m--> 162\u001b[0m \u001b[39masync\u001b[39;00m \u001b[39mfor\u001b[39;00m resp \u001b[39min\u001b[39;00m gen_obj:\n\u001b[1;32m    163\u001b[0m     \u001b[39mawait\u001b[39;00m asyncio\u001b[39m.\u001b[39msleep(\u001b[39m0\u001b[39m) \u001b[39m# allow other tasks to run\u001b[39;00m\n\u001b[1;32m    164\u001b[0m     \u001b[39m#log(\"parser.should_stop = \" + str(parser.should_stop))\u001b[39;00m\n",
      "File \u001b[0;32m~/anaconda3/lib/python3.10/site-packages/guidance/_utils.py:75\u001b[0m, in \u001b[0;36mAsyncIter.__aiter__\u001b[0;34m(self)\u001b[0m\n\u001b[1;32m     74\u001b[0m \u001b[39masync\u001b[39;00m \u001b[39mdef\u001b[39;00m \u001b[39m__aiter__\u001b[39m(\u001b[39mself\u001b[39m):    \n\u001b[0;32m---> 75\u001b[0m     \u001b[39mfor\u001b[39;00m item \u001b[39min\u001b[39;00m \u001b[39mself\u001b[39m\u001b[39m.\u001b[39mitems:    \n\u001b[1;32m     76\u001b[0m         \u001b[39myield\u001b[39;00m item\n",
      "File \u001b[0;32m~/anaconda3/lib/python3.10/site-packages/guidance/llms/_transformers.py:348\u001b[0m, in \u001b[0;36mTransformersSession._stream_then_save\u001b[0;34m(self, streamer, key, thread)\u001b[0m\n\u001b[1;32m    346\u001b[0m \u001b[39mdef\u001b[39;00m \u001b[39m_stream_then_save\u001b[39m(\u001b[39mself\u001b[39m, streamer, key, thread):\n\u001b[1;32m    347\u001b[0m     list_out \u001b[39m=\u001b[39m []\n\u001b[0;32m--> 348\u001b[0m     \u001b[39mfor\u001b[39;00m out \u001b[39min\u001b[39;00m streamer:\n\u001b[1;32m    349\u001b[0m         list_out\u001b[39m.\u001b[39mappend(out)\n\u001b[1;32m    350\u001b[0m         \u001b[39myield\u001b[39;00m out\n",
      "File \u001b[0;32m~/anaconda3/lib/python3.10/site-packages/guidance/llms/_transformers.py:763\u001b[0m, in \u001b[0;36mTransformersStreamer.__next__\u001b[0;34m(self)\u001b[0m\n\u001b[1;32m    762\u001b[0m \u001b[39mdef\u001b[39;00m \u001b[39m__next__\u001b[39m(\u001b[39mself\u001b[39m):\n\u001b[0;32m--> 763\u001b[0m     value \u001b[39m=\u001b[39m \u001b[39mself\u001b[39;49m\u001b[39m.\u001b[39;49mout_queue\u001b[39m.\u001b[39;49mget(timeout\u001b[39m=\u001b[39;49m\u001b[39mself\u001b[39;49m\u001b[39m.\u001b[39;49mtimeout)\n\u001b[1;32m    764\u001b[0m     \u001b[39mif\u001b[39;00m value \u001b[39mis\u001b[39;00m \u001b[39mNone\u001b[39;00m:\n\u001b[1;32m    765\u001b[0m         \u001b[39mraise\u001b[39;00m \u001b[39mStopIteration\u001b[39;00m()\n",
      "File \u001b[0;32m~/anaconda3/lib/python3.10/queue.py:171\u001b[0m, in \u001b[0;36mQueue.get\u001b[0;34m(self, block, timeout)\u001b[0m\n\u001b[1;32m    169\u001b[0m \u001b[39melif\u001b[39;00m timeout \u001b[39mis\u001b[39;00m \u001b[39mNone\u001b[39;00m:\n\u001b[1;32m    170\u001b[0m     \u001b[39mwhile\u001b[39;00m \u001b[39mnot\u001b[39;00m \u001b[39mself\u001b[39m\u001b[39m.\u001b[39m_qsize():\n\u001b[0;32m--> 171\u001b[0m         \u001b[39mself\u001b[39;49m\u001b[39m.\u001b[39;49mnot_empty\u001b[39m.\u001b[39;49mwait()\n\u001b[1;32m    172\u001b[0m \u001b[39melif\u001b[39;00m timeout \u001b[39m<\u001b[39m \u001b[39m0\u001b[39m:\n\u001b[1;32m    173\u001b[0m     \u001b[39mraise\u001b[39;00m \u001b[39mValueError\u001b[39;00m(\u001b[39m\"\u001b[39m\u001b[39m'\u001b[39m\u001b[39mtimeout\u001b[39m\u001b[39m'\u001b[39m\u001b[39m must be a non-negative number\u001b[39m\u001b[39m\"\u001b[39m)\n",
      "File \u001b[0;32m~/anaconda3/lib/python3.10/threading.py:320\u001b[0m, in \u001b[0;36mCondition.wait\u001b[0;34m(self, timeout)\u001b[0m\n\u001b[1;32m    318\u001b[0m \u001b[39mtry\u001b[39;00m:    \u001b[39m# restore state no matter what (e.g., KeyboardInterrupt)\u001b[39;00m\n\u001b[1;32m    319\u001b[0m     \u001b[39mif\u001b[39;00m timeout \u001b[39mis\u001b[39;00m \u001b[39mNone\u001b[39;00m:\n\u001b[0;32m--> 320\u001b[0m         waiter\u001b[39m.\u001b[39;49macquire()\n\u001b[1;32m    321\u001b[0m         gotit \u001b[39m=\u001b[39m \u001b[39mTrue\u001b[39;00m\n\u001b[1;32m    322\u001b[0m     \u001b[39melse\u001b[39;00m:\n",
      "\u001b[0;31mKeyboardInterrupt\u001b[0m: "
     ]
    }
   ],
   "source": [
    "# generate a character\n",
    "results = character_maker(\n",
    "    article=article,\n",
    "    llm=llama\n",
    ")"
   ]
  },
  {
   "cell_type": "code",
   "execution_count": null,
   "metadata": {},
   "outputs": [],
   "source": [
    "results.variables()"
   ]
  }
 ],
 "metadata": {
  "kernelspec": {
   "display_name": "base",
   "language": "python",
   "name": "python3"
  },
  "language_info": {
   "codemirror_mode": {
    "name": "ipython",
    "version": 3
   },
   "file_extension": ".py",
   "mimetype": "text/x-python",
   "name": "python",
   "nbconvert_exporter": "python",
   "pygments_lexer": "ipython3",
   "version": "3.10.9"
  },
  "orig_nbformat": 4
 },
 "nbformat": 4,
 "nbformat_minor": 2
}
