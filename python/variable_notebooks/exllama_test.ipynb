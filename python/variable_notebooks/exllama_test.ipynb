{
 "cells": [
  {
   "attachments": {},
   "cell_type": "markdown",
   "metadata": {},
   "source": [
    "https://github.com/turboderp/exllama"
   ]
  },
  {
   "cell_type": "code",
   "execution_count": 1,
   "metadata": {},
   "outputs": [],
   "source": [
    "import os\n",
    "os.getcwd()\n",
    "import sys\n",
    "sys.path.insert(0, \"/home/skynet3/Downloads/exllama/\")"
   ]
  },
  {
   "cell_type": "code",
   "execution_count": 2,
   "metadata": {},
   "outputs": [],
   "source": [
    "from model import ExLlama, ExLlamaCache, ExLlamaConfig\n"
   ]
  },
  {
   "cell_type": "code",
   "execution_count": 3,
   "metadata": {},
   "outputs": [],
   "source": [
    "from tokenizer import ExLlamaTokenizer\n",
    "from generator import ExLlamaGenerator\n",
    "import os, glob"
   ]
  },
  {
   "cell_type": "code",
   "execution_count": 4,
   "metadata": {},
   "outputs": [],
   "source": [
    "\n",
    "# Directory containing model, tokenizer, generator\n",
    "\n",
    "#model_directory =  \"/mnt/str/models/llama-13b-4bit-128g/\"\n",
    "model_directory =  \"/media/skynet3/8tb_a/rwd_github_private/ICBeLLM/data_temp/Wizard-Vicuna-30B-Uncensored-GPTQ/\"\n",
    "# Locate files we need within that directory\n",
    "\n",
    "tokenizer_path = os.path.join(model_directory, \"tokenizer.model\")\n",
    "model_config_path = os.path.join(model_directory, \"config.json\")\n",
    "st_pattern = os.path.join(model_directory, \"*.safetensors\")\n",
    "model_path = glob.glob(st_pattern)[0]\n",
    "\n",
    "# Create config, model, tokenizer and generator\n",
    "\n",
    "config = ExLlamaConfig(model_config_path)               # create config from config.json\n",
    "config.model_path = model_path                          # supply path to model weights file\n",
    "\n",
    "model = ExLlama(config)                                 # create ExLlama instance and load the weights\n",
    "tokenizer = ExLlamaTokenizer(tokenizer_path)            # create tokenizer from tokenizer model file\n",
    "\n",
    "cache = ExLlamaCache(model)                             # create cache for inference\n",
    "generator = ExLlamaGenerator(model, tokenizer, cache)   # create generator\n"
   ]
  },
  {
   "cell_type": "code",
   "execution_count": 23,
   "metadata": {},
   "outputs": [
    {
     "data": {
      "text/plain": [
       "['']"
      ]
     },
     "execution_count": 23,
     "metadata": {},
     "output_type": "execute_result"
    }
   ],
   "source": [
    "tokenizer.eos_token_id\n",
    "tokenizer.encode('a')\n",
    "import torch\n",
    "tokenizer.decode(torch.tensor([[2]]))"
   ]
  },
  {
   "cell_type": "code",
   "execution_count": null,
   "metadata": {},
   "outputs": [],
   "source": [
    "# Configure generator\n",
    "\n",
    "generator.disallow_tokens([tokenizer.eos_token_id])\n",
    "\n",
    "generator.settings.token_repetition_penalty_max = 1.2 #ok if you lower this to 0 it just repeats over and over again\n",
    "generator.settings.temperature = 0.95 #0.95\n",
    "generator.settings.top_p = 0.65\n",
    "generator.settings.top_k = 100\n",
    "generator.settings.typical = 0.5\n",
    "\n",
    "# Produce a simple generation\n",
    "\n",
    "prompt = \"Once upon a time,\"\n",
    "print (prompt, end = \"\")\n",
    "\n",
    "output = generator.generate_simple(prompt, max_new_tokens = 200)\n",
    "\n",
    "print(output[len(prompt):])"
   ]
  },
  {
   "cell_type": "code",
   "execution_count": null,
   "metadata": {},
   "outputs": [],
   "source": [
    "[output]"
   ]
  },
  {
   "cell_type": "code",
   "execution_count": 7,
   "metadata": {},
   "outputs": [
    {
     "name": "stdout",
     "output_type": "stream",
     "text": [
      " I had to use my laptop in the kitchen for a few days while my office was being painted. It wasn't fun!\n",
      "Thanks so much for sharing your experience with us, Marcie! And congrats on finding a new workspace that works well for you :)\n",
      "Jenny @ The Bloggess says:\n",
      "I have always worked from home and never thought about how important it is to create a dedicated space until recently when we moved into our new house. Now I have an entire room just for me and my business which has made such a difference in productivity and focus. Thanks for sharing this great post!\n",
      "That sounds amazing, Jenny! Congrats on having your own dedicated space now - it definitely makes a huge difference in terms of productivity and focus. Enjoy it!\n",
      "Kimberly | CoziMommy says:\n",
      "This is so true! Having a designated workspace can make all the difference in the\n"
     ]
    }
   ],
   "source": [
    "output = generator.generate_simple(prompt, max_new_tokens = 200)\n",
    "\n",
    "print(output[len(prompt):])"
   ]
  },
  {
   "cell_type": "code",
   "execution_count": null,
   "metadata": {},
   "outputs": [],
   "source": [
    "article=\"\"\"\n",
    "### Start Article\n",
    "The Cuban Missile Crisis, also known as the October Crisis (of 1962) (Spanish: Crisis de Octubre) in Cuba, the Caribbean Crisis (Russian: Карибский кризис, tr. Karibsky krizis, IPA: [kɐˈrʲipskʲɪj ˈkrʲizʲɪs]) in Russia, or the Missile Scare, was a 13-day (October 16 – October 29, 1962) confrontation between the United States and the Soviet Union, which escalated into an international crisis when American deployments of missiles in Italy and Turkey were matched by Soviet deployments of similar ballistic missiles in Cuba. Despite the short time frame, the Cuban Missile Crisis remains a defining moment in American national security and nuclear war preparation. The confrontation is often considered the closest the Cold War came to escalating into a full-scale conflict, nuclear war.[4]\n",
    "\n",
    "In 1961, the US government put Jupiter nuclear missiles in Italy and Turkey. It had also trained a paramilitary force of Cuban exiles, which the CIA led in an attempt to invade Cuba and overthrow the Cuban government. Starting in November of that year, the US government engaged in a campaign of terrorism and sabotage in Cuba, referred to as the Cuban Project, which continued throughout the first half of the 1960s. The Soviet administration was concerned about a Cuban drift towards China, with which the Soviets had an increasingly fractious relationship. In response to these factors, Soviet First Secretary, Nikita Khrushchev, agreed with the Cuban Prime Minister, Fidel Castro, to place nuclear missiles on the island of Cuba to deter a future invasion. An agreement was reached during a secret meeting between Khrushchev and Castro in July 1962, and construction of a number of missile launch facilities started later that summer.\n",
    "\n",
    "During the campaigning for the 1962 United States elections, the White House denied the charges for months and ignored the presence of Soviet missiles positioned approximately 90 mi (140 km) away from Florida. Later, the missile preparations were confirmed when a US Air Force U-2 spy plane produced clear photographic evidence of medium-range R-12 (NATO code name SS-4) and intermediate-range R-14 (NATO code name SS-5) ballistic missile facilities.\n",
    "\n",
    "When this was reported to President John F. Kennedy, he then convened a meeting of the nine members of the National Security Council and five other key advisers, in a group that became known as the Executive Committee of the National Security Council (EXCOMM). During this meeting, President Kennedy was originally advised to carry out an air strike on Cuban soil in order to compromise Soviet missile supplies, followed by an invasion of the Cuban mainland. After careful consideration, President Kennedy chose a less aggressive course of action, in order to avoid a declaration of war. After consultation with EXCOMM, Kennedy ordered a naval \"quarantine\" on October 22 to prevent further missiles from reaching Cuba.[5] By using the term \"quarantine\", rather than \"blockade\" (an act of war by legal definition), the United States was able to avoid the implications of a state of war.[6] The US announced it would not permit offensive weapons to be delivered to Cuba and demanded that the weapons already in Cuba be dismantled and returned to the Soviet Union.\n",
    "\n",
    "After several days of tense negotiations, an agreement was reached between Kennedy and Khrushchev: publicly, the Soviets would dismantle their offensive weapons in Cuba and return them to the Soviet Union, subject to United Nations verification, in exchange for a US public declaration and agreement to not invade Cuba again. Secretly, the United States agreed with the Soviets that it would dismantle all of the Jupiter MRBMs which had been deployed to Turkey against the Soviet Union. There has been debate on whether or not Italy was included in the agreement as well. While the Soviets dismantled their missiles, some Soviet bombers remained in Cuba, and the United States kept the naval quarantine in place until November 20, 1962.[6]\n",
    "\n",
    "When all offensive missiles and the Ilyushin Il-28 light bombers had been withdrawn from Cuba, the blockade was formally ended on November 20. The negotiations between the United States and the Soviet Union pointed out the necessity of a quick, clear, and direct communication line between the two superpowers. As a result, the Moscow–Washington hotline was established. A series of agreements later reduced US–Soviet tensions for several years, until both parties eventually resumed expanding their nuclear arsenals.\n",
    "\n",
    "The compromise embarrassed Khrushchev and the Soviet Union because the withdrawal of US missiles from Italy and Turkey was a secret deal between Kennedy and Khrushchev, and the Soviets were seen as retreating from circumstances that they had started. Khrushchev's fall from power two years later was in part because of the Soviet Politburo's embarrassment at both Khrushchev's eventual concessions to the US and his ineptitude in precipitating the crisis in the first place. According to Dobrynin, the top Soviet leadership took the Cuban outcome as \"a blow to its prestige bordering on humiliation\".[7][8]\n",
    "### End Article\n",
    "\"\"\"\n",
    "print(len(article)/4)"
   ]
  },
  {
   "cell_type": "code",
   "execution_count": 9,
   "metadata": {},
   "outputs": [],
   "source": [
    "preamble=\"\"\"\n",
    "Carefully read this article and then answer the list of questions.\n",
    "\n",
    "\"\"\""
   ]
  },
  {
   "cell_type": "code",
   "execution_count": 42,
   "metadata": {},
   "outputs": [],
   "source": [
    "questions=\"\"\"\n",
    "\n",
    "Now answer the following questions. Be concise and truthful. Format your responses as json values and nothing else. Include only the answers no other text. Only include information directly mentioned in the article.\n",
    "\n",
    "### Begin Questions\n",
    "1) Who were the combatants in the crisis (countries)?\n",
    "2) Which countries were involved in any way in the crisis (countries)?\n",
    "3) When did the crisis start (dates)?\n",
    "### End Questions\n",
    "\"\"\"\n",
    "\n",
    "answers=\"\"\"\n",
    "### Begin Answers\n",
    "{\n",
    "\"\"\"\n",
    "\n",
    "prompt= preamble + article + questions + answers\n",
    "#print(len(prompt)/4)\n",
    "#print(prompt)"
   ]
  },
  {
   "cell_type": "code",
   "execution_count": null,
   "metadata": {},
   "outputs": [],
   "source": [
    "output = generator.generate_simple(prompt, max_new_tokens = 200)\n",
    "\n",
    "print(output[len(prompt):])"
   ]
  }
 ],
 "metadata": {
  "kernelspec": {
   "display_name": "base",
   "language": "python",
   "name": "python3"
  },
  "language_info": {
   "codemirror_mode": {
    "name": "ipython",
    "version": 3
   },
   "file_extension": ".py",
   "mimetype": "text/x-python",
   "name": "python",
   "nbconvert_exporter": "python",
   "pygments_lexer": "ipython3",
   "version": "3.10.9"
  },
  "orig_nbformat": 4
 },
 "nbformat": 4,
 "nbformat_minor": 2
}
